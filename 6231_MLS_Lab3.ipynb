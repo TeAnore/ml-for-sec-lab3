{
  "nbformat": 4,
  "nbformat_minor": 0,
  "metadata": {
    "colab": {
      "provenance": []
    },
    "kernelspec": {
      "name": "python3",
      "display_name": "Python 3"
    },
    "language_info": {
      "name": "python"
    }
  },
  "cells": [
    {
      "cell_type": "code",
      "execution_count": 1,
      "metadata": {
        "colab": {
          "base_uri": "https://localhost:8080/"
        },
        "id": "7-r7V9EY2O5Y",
        "outputId": "67684e59-21af-48b1-dc32-7235fed6b93b"
      },
      "outputs": [
        {
          "output_type": "stream",
          "name": "stdout",
          "text": [
            "Reading package lists... Done\n",
            "Building dependency tree       \n",
            "Reading state information... Done\n",
            "libmagickwand-dev is already the newest version (8:6.9.7.4+dfsg-16ubuntu6.14).\n",
            "The following package was automatically installed and is no longer required:\n",
            "  libnvidia-common-460\n",
            "Use 'sudo apt autoremove' to remove it.\n",
            "0 upgraded, 0 newly installed, 0 to remove and 20 not upgraded.\n",
            "Looking in indexes: https://pypi.org/simple, https://us-python.pkg.dev/colab-wheels/public/simple/\n",
            "Requirement already satisfied: opencv-python-headless==4.6.* in /usr/local/lib/python3.8/dist-packages (4.6.0.66)\n",
            "Requirement already satisfied: rawpy==0.17.* in /usr/local/lib/python3.8/dist-packages (0.17.3)\n",
            "Requirement already satisfied: pandas in /usr/local/lib/python3.8/dist-packages (1.3.5)\n",
            "Requirement already satisfied: Pillow==7.1.2 in /usr/local/lib/python3.8/dist-packages (7.1.2)\n",
            "Requirement already satisfied: scikit-image==0.16.2 in /usr/local/lib/python3.8/dist-packages (0.16.2)\n",
            "Requirement already satisfied: scipy in /usr/local/lib/python3.8/dist-packages (1.5.0)\n",
            "Requirement already satisfied: tqdm in /usr/local/lib/python3.8/dist-packages (4.64.1)\n",
            "Requirement already satisfied: Wand in /usr/local/lib/python3.8/dist-packages (0.6.10)\n",
            "Requirement already satisfied: numpy>=1.17.3 in /usr/local/lib/python3.8/dist-packages (from opencv-python-headless==4.6.*) (1.21.6)\n",
            "Requirement already satisfied: imageio>=2.3.0 in /usr/local/lib/python3.8/dist-packages (from scikit-image==0.16.2) (2.9.0)\n",
            "Requirement already satisfied: networkx>=2.0 in /usr/local/lib/python3.8/dist-packages (from scikit-image==0.16.2) (2.8.8)\n",
            "Requirement already satisfied: PyWavelets>=0.4.0 in /usr/local/lib/python3.8/dist-packages (from scikit-image==0.16.2) (1.4.1)\n",
            "Requirement already satisfied: matplotlib!=3.0.0,>=2.0.0 in /usr/local/lib/python3.8/dist-packages (from scikit-image==0.16.2) (3.2.2)\n",
            "Requirement already satisfied: cycler>=0.10 in /usr/local/lib/python3.8/dist-packages (from matplotlib!=3.0.0,>=2.0.0->scikit-image==0.16.2) (0.11.0)\n",
            "Requirement already satisfied: python-dateutil>=2.1 in /usr/local/lib/python3.8/dist-packages (from matplotlib!=3.0.0,>=2.0.0->scikit-image==0.16.2) (2.8.2)\n",
            "Requirement already satisfied: kiwisolver>=1.0.1 in /usr/local/lib/python3.8/dist-packages (from matplotlib!=3.0.0,>=2.0.0->scikit-image==0.16.2) (1.4.4)\n",
            "Requirement already satisfied: pyparsing!=2.0.4,!=2.1.2,!=2.1.6,>=2.0.1 in /usr/local/lib/python3.8/dist-packages (from matplotlib!=3.0.0,>=2.0.0->scikit-image==0.16.2) (3.0.9)\n",
            "Requirement already satisfied: six>=1.5 in /usr/local/lib/python3.8/dist-packages (from python-dateutil>=2.1->matplotlib!=3.0.0,>=2.0.0->scikit-image==0.16.2) (1.15.0)\n",
            "Requirement already satisfied: pytz>=2017.3 in /usr/local/lib/python3.8/dist-packages (from pandas) (2022.6)\n"
          ]
        }
      ],
      "source": [
        "!sudo apt-get install libmagickwand-dev\n",
        "!pip install --no-cache-dir \\\n",
        "    opencv-python-headless==4.6.*\\\n",
        "    rawpy==0.17.* \\\n",
        "    pandas \\\n",
        "    Pillow==7.1.2 \\\n",
        "    scikit-image==0.16.2 \\\n",
        "    scipy \\\n",
        "    tqdm \\\n",
        "    Wand"
      ]
    },
    {
      "cell_type": "code",
      "source": [
        "!git clone https://github.com/andreacos/BoostingCNN-Jpeg-Primary-Quantization-Matrix-Estimation"
      ],
      "metadata": {
        "colab": {
          "base_uri": "https://localhost:8080/"
        },
        "id": "LXn-H8ij3J3T",
        "outputId": "b4109313-c40e-4978-ec66-9b9667ba5de7"
      },
      "execution_count": 2,
      "outputs": [
        {
          "output_type": "stream",
          "name": "stdout",
          "text": [
            "fatal: destination path 'BoostingCNN-Jpeg-Primary-Quantization-Matrix-Estimation' already exists and is not an empty directory.\n"
          ]
        }
      ]
    },
    {
      "cell_type": "code",
      "source": [
        "# INIT IMPORT\n",
        "import io\n",
        "import os\n",
        "import sys\n",
        "import cv2\n",
        "import numpy as np\n",
        "import tensorflow as tf\n",
        "\n",
        "import pandas as pd\n",
        "\n",
        "from glob import glob\n",
        "from PIL import Image\n",
        "\n",
        "from skimage.util import view_as_windows"
      ],
      "metadata": {
        "id": "MtjpJolj339m"
      },
      "execution_count": 3,
      "outputs": []
    },
    {
      "cell_type": "code",
      "source": [
        "# GET PATH\n",
        "sys.path.insert(1, \"BoostingCNN-Jpeg-Primary-Quantization-Matrix-Estimation\")"
      ],
      "metadata": {
        "id": "DpPC0ZalN4CV"
      },
      "execution_count": 4,
      "outputs": []
    },
    {
      "cell_type": "code",
      "source": [
        "# IMPORT METHODS\n",
        "from networks import custom_two_terms_loss_wrapper, custom_softmax_activation, custom_mse_wrapper\n",
        "from utils import max_min_coefficient, label2coefficient, string2Q"
      ],
      "metadata": {
        "id": "LNqDjmbZN4lU"
      },
      "execution_count": 5,
      "outputs": []
    },
    {
      "cell_type": "code",
      "source": [
        "# INIT PARAMS\n",
        "model_path = \"BoostingCNN-Jpeg-Primary-Quantization-Matrix-Estimation/models/\"\n",
        "data_path = \"BoostingCNN-Jpeg-Primary-Quantization-Matrix-Estimation/resources/\"\n",
        "img_path = \"test_images/\"\n",
        "\n",
        "model_file = model_path + 'model_QF1_60-98_QF2_90-2-term-loss.h5'\n",
        "img_file =  data_path + '00000000_redaf7d93t.TIF_85_90.png'\n",
        "\n",
        "# Load the table linking each pair of JPEG quality factors to the corresponding Q's coefficients\n",
        "qf_map = np.load( data_path + 'qf1_qf2_map_90.npy', allow_pickle=True)\n",
        "\n",
        "examples = [\n",
        "    (77,),\n",
        "    (70,90),\n",
        "    (60,90),\n",
        "    (98,90),\n",
        "    (89,90),\n",
        "]"
      ],
      "metadata": {
        "id": "8VJMAeiU37w_"
      },
      "execution_count": 6,
      "outputs": []
    },
    {
      "cell_type": "code",
      "source": [
        "# Предобработка изображений\n",
        "def preprocess_input(im, target_size, scale=255.):\n",
        "    if type(im) == str :\n",
        "      im = cv2.imread(im)\n",
        "\n",
        "    im = cv2.cvtColor(im, cv2.COLOR_BGR2YCrCb)[:,:,0]\n",
        "\n",
        "    if im.shape != target_size:\n",
        "        im = cv2.resize(im, target_size)\n",
        "\n",
        "    return im.astype(np.float32) / scale"
      ],
      "metadata": {
        "id": "To2Oc31M5C0r"
      },
      "execution_count": 7,
      "outputs": []
    },
    {
      "cell_type": "code",
      "source": [
        "# Расчёт MSE\n",
        "def mse (predictions, k_dct):\n",
        "\n",
        "  result = np.mean((k_dct - predictions) **2, axis=1)\n",
        "\n",
        "  return result"
      ],
      "metadata": {
        "id": "CHsIBuH4_ptr"
      },
      "execution_count": 8,
      "outputs": []
    },
    {
      "cell_type": "code",
      "source": [
        "# Предсказание\n",
        "def predict(img, k_dct, max_coeffs):\n",
        "  prediction = model.predict(np.expand_dims(img, [0, -1]), verbose=0)\n",
        "  predicted_label = label2coefficient(prediction.flatten(), max_coefficients=max_coeffs)\n",
        "\n",
        "  t_mse = mse(predicted_label,k_dct)\n",
        "  min_mse = np.argmin(t_mse)\n",
        "  result = labels[min_mse]\n",
        "\n",
        "  return result"
      ],
      "metadata": {
        "id": "5QBeX_k4EYqP"
      },
      "execution_count": 9,
      "outputs": []
    },
    {
      "cell_type": "code",
      "source": [
        "# Сжатие изображения\n",
        "def compress_image(img, *qfs):\n",
        "\n",
        "  for qf in qfs:\n",
        "    jpeg_encoded = cv2.imencode('.jpg', img, [int(cv2.IMWRITE_JPEG_QUALITY), qf])[1]\n",
        "    \n",
        "    jpeg_encoded_image = Image.open(io.BytesIO(jpeg_encoded))\n",
        "    \n",
        "    img = np.array(jpeg_encoded_image)\n",
        "\n",
        "  return img"
      ],
      "metadata": {
        "id": "FUA1Ycg7Myu7"
      },
      "execution_count": 10,
      "outputs": []
    },
    {
      "cell_type": "code",
      "source": [
        "# Базовый кейс\n",
        "def test_case():\n",
        "  x = preprocess_input(img_file, (64, 64), 255.)\n",
        "  prediction = model.predict(np.expand_dims(x, [0, -1]))\n",
        "\n",
        "  predicted_label = label2coefficient(prediction.flatten(), max_coefficients=max_coeffs)\n",
        "  print(len(predicted_label),predicted_label)"
      ],
      "metadata": {
        "id": "sewPFpHk4GxE"
      },
      "execution_count": 11,
      "outputs": []
    },
    {
      "cell_type": "code",
      "source": [
        "# Max value for coefficients\n",
        "max_coeffs, _ = max_min_coefficient(quality_range=(50, 100),\n",
        "                                    n_coeffs=15,\n",
        "                                    zig_zag_order=True)\n",
        "model = tf.keras.models.load_model(model_file,\n",
        "                                    custom_objects=({'custom_softmax': custom_softmax_activation(max_coeffs),\n",
        "                                                    'custom_two_terms_loss_wrapper': custom_two_terms_loss_wrapper(max_coeffs, 0.8),\n",
        "                                                    'custom_mse': custom_mse_wrapper(max_coeffs)})\n",
        "                                    )"
      ],
      "metadata": {
        "colab": {
          "base_uri": "https://localhost:8080/"
        },
        "id": "iEenNE6gNG_0",
        "outputId": "180a1fcf-bae2-4f50-e874-c6fcba24f875"
      },
      "execution_count": 12,
      "outputs": [
        {
          "output_type": "stream",
          "name": "stderr",
          "text": [
            "WARNING:tensorflow:No training configuration found in the save file, so the model was *not* compiled. Compile it manually.\n"
          ]
        }
      ]
    },
    {
      "cell_type": "code",
      "source": [
        "# Готовим данные из исходных\n",
        "labels = qf_map[:,:2]\n",
        "k_dct = []\n",
        "for rec in qf_map:\n",
        "  k_dct.append(string2Q(rec[2], size=(8, 8), flatten=True)[:15])\n",
        "k_dct = np.array(k_dct)"
      ],
      "metadata": {
        "id": "-B9MzAae8Xpc"
      },
      "execution_count": 13,
      "outputs": []
    },
    {
      "cell_type": "code",
      "source": [
        "#qf_map\n",
        "#labels\n",
        "#k_dct"
      ],
      "metadata": {
        "id": "N465sl369weL"
      },
      "execution_count": 14,
      "outputs": []
    },
    {
      "cell_type": "code",
      "source": [
        "test_case()"
      ],
      "metadata": {
        "colab": {
          "base_uri": "https://localhost:8080/"
        },
        "id": "r5GvT50bAn2x",
        "outputId": "1ab753d7-6e34-420d-da81-5c63c02df6bd"
      },
      "execution_count": 15,
      "outputs": [
        {
          "output_type": "stream",
          "name": "stdout",
          "text": [
            "1/1 [==============================] - 1s 1s/step\n",
            "15 [ 7  5  4  6  4  3  7  6  4  6  8  7  7  8 11]\n"
          ]
        }
      ]
    },
    {
      "cell_type": "code",
      "source": [
        "# A0: Программно сгенерировать 5 принципиально различных ситуаций: однократное сжатие, 𝑄𝐹1 < 𝑄𝐹2, 𝑄𝐹1 ≪ 𝑄𝐹2, 𝑄𝐹1 > 𝑄𝐹2, 𝑄𝐹1 ≈ 𝑄𝐹2. \n",
        "anls_data = []\n",
        "\n",
        "for e in examples:\n",
        "  for path in glob(img_path+'*.tif'):\n",
        "    tmp = compress_image(cv2.imread(path), *e)\n",
        "    tmp = tmp[:64,:64]\n",
        "    tmp = preprocess_input(tmp, (64, 64), 255.)\n",
        "    pred = predict(tmp, k_dct, max_coeffs)\n",
        "\n",
        "    anls_data.append([pred[0], e[0], np.abs(pred[0]-e[0])])\n",
        "print('Complete!')"
      ],
      "metadata": {
        "colab": {
          "base_uri": "https://localhost:8080/"
        },
        "id": "MtvkS2fmGglU",
        "outputId": "db48767f-7cc5-41c6-fbd8-9e5fd8b60077"
      },
      "execution_count": 16,
      "outputs": [
        {
          "output_type": "stream",
          "name": "stdout",
          "text": [
            "Complete!\n"
          ]
        }
      ]
    },
    {
      "cell_type": "code",
      "source": [
        "# A1: Сравнить ошибку при оценивании 𝑄𝐹1 по одному патчу и при оценивании по 𝑝 = 10 патчам, выбранным из одного изображения без пересечения.\n",
        "result_data = []\n",
        "\n",
        "for e in examples:\n",
        "  for path in glob(img_path+'*.tif'):\n",
        "    tmp = compress_image(cv2.imread(path), *e)\n",
        "    chunks = view_as_windows(tmp, (64, 64, 3), 64).reshape(-1,64,64,3)\n",
        "    tmp_result = []\n",
        "    for c in chunks[:10]:\n",
        "      c = preprocess_input(c, (64, 64), 255.)\n",
        "      pred = predict(c, k_dct, max_coeffs)\n",
        "\n",
        "      tmp_result.append([pred[0], np.abs(pred[0]-e[0])])\n",
        "      \n",
        "    mean_tmp_res = np.mean(tmp_result, axis=0)\n",
        "    result_data.append([mean_tmp_res[0], e[0], mean_tmp_res[1]])\n",
        "print('Complete!')"
      ],
      "metadata": {
        "colab": {
          "base_uri": "https://localhost:8080/"
        },
        "id": "FnXLrvGkOERQ",
        "outputId": "9a3da229-663c-410b-be35-5ed69c997b0c"
      },
      "execution_count": 17,
      "outputs": [
        {
          "output_type": "stream",
          "name": "stdout",
          "text": [
            "Complete!\n"
          ]
        }
      ]
    },
    {
      "cell_type": "code",
      "source": [
        "df_a0 = pd.DataFrame(anls_data, columns=['Prediction','QF1', 'Error'])\n",
        "df_a1 = pd.DataFrame(result_data, columns=['Prediction','QF1', 'Error'])\n",
        "\n",
        "df_a0_g = df_a0.groupby('QF1').mean()\n",
        "df_a1_g = df_a1.groupby('QF1').mean()"
      ],
      "metadata": {
        "id": "zU0HLjTHa1og"
      },
      "execution_count": 18,
      "outputs": []
    },
    {
      "cell_type": "code",
      "source": [
        "# Вывод результатов А0\n",
        "df_a0_g"
      ],
      "metadata": {
        "colab": {
          "base_uri": "https://localhost:8080/",
          "height": 238
        },
        "id": "1dITc-A_a6P5",
        "outputId": "cdd05402-5355-4e2c-9b79-6092191beb36"
      },
      "execution_count": 19,
      "outputs": [
        {
          "output_type": "execute_result",
          "data": {
            "text/plain": [
              "     Prediction     Error\n",
              "QF1                      \n",
              "60    62.500000  2.500000\n",
              "70    67.750000  3.083333\n",
              "77    75.416667  1.916667\n",
              "89    92.750000  3.750000\n",
              "98    95.583333  2.416667"
            ],
            "text/html": [
              "\n",
              "  <div id=\"df-d6cb5e3c-e27b-4483-af2a-2a7f3ffc27b7\">\n",
              "    <div class=\"colab-df-container\">\n",
              "      <div>\n",
              "<style scoped>\n",
              "    .dataframe tbody tr th:only-of-type {\n",
              "        vertical-align: middle;\n",
              "    }\n",
              "\n",
              "    .dataframe tbody tr th {\n",
              "        vertical-align: top;\n",
              "    }\n",
              "\n",
              "    .dataframe thead th {\n",
              "        text-align: right;\n",
              "    }\n",
              "</style>\n",
              "<table border=\"1\" class=\"dataframe\">\n",
              "  <thead>\n",
              "    <tr style=\"text-align: right;\">\n",
              "      <th></th>\n",
              "      <th>Prediction</th>\n",
              "      <th>Error</th>\n",
              "    </tr>\n",
              "    <tr>\n",
              "      <th>QF1</th>\n",
              "      <th></th>\n",
              "      <th></th>\n",
              "    </tr>\n",
              "  </thead>\n",
              "  <tbody>\n",
              "    <tr>\n",
              "      <th>60</th>\n",
              "      <td>62.500000</td>\n",
              "      <td>2.500000</td>\n",
              "    </tr>\n",
              "    <tr>\n",
              "      <th>70</th>\n",
              "      <td>67.750000</td>\n",
              "      <td>3.083333</td>\n",
              "    </tr>\n",
              "    <tr>\n",
              "      <th>77</th>\n",
              "      <td>75.416667</td>\n",
              "      <td>1.916667</td>\n",
              "    </tr>\n",
              "    <tr>\n",
              "      <th>89</th>\n",
              "      <td>92.750000</td>\n",
              "      <td>3.750000</td>\n",
              "    </tr>\n",
              "    <tr>\n",
              "      <th>98</th>\n",
              "      <td>95.583333</td>\n",
              "      <td>2.416667</td>\n",
              "    </tr>\n",
              "  </tbody>\n",
              "</table>\n",
              "</div>\n",
              "      <button class=\"colab-df-convert\" onclick=\"convertToInteractive('df-d6cb5e3c-e27b-4483-af2a-2a7f3ffc27b7')\"\n",
              "              title=\"Convert this dataframe to an interactive table.\"\n",
              "              style=\"display:none;\">\n",
              "        \n",
              "  <svg xmlns=\"http://www.w3.org/2000/svg\" height=\"24px\"viewBox=\"0 0 24 24\"\n",
              "       width=\"24px\">\n",
              "    <path d=\"M0 0h24v24H0V0z\" fill=\"none\"/>\n",
              "    <path d=\"M18.56 5.44l.94 2.06.94-2.06 2.06-.94-2.06-.94-.94-2.06-.94 2.06-2.06.94zm-11 1L8.5 8.5l.94-2.06 2.06-.94-2.06-.94L8.5 2.5l-.94 2.06-2.06.94zm10 10l.94 2.06.94-2.06 2.06-.94-2.06-.94-.94-2.06-.94 2.06-2.06.94z\"/><path d=\"M17.41 7.96l-1.37-1.37c-.4-.4-.92-.59-1.43-.59-.52 0-1.04.2-1.43.59L10.3 9.45l-7.72 7.72c-.78.78-.78 2.05 0 2.83L4 21.41c.39.39.9.59 1.41.59.51 0 1.02-.2 1.41-.59l7.78-7.78 2.81-2.81c.8-.78.8-2.07 0-2.86zM5.41 20L4 18.59l7.72-7.72 1.47 1.35L5.41 20z\"/>\n",
              "  </svg>\n",
              "      </button>\n",
              "      \n",
              "  <style>\n",
              "    .colab-df-container {\n",
              "      display:flex;\n",
              "      flex-wrap:wrap;\n",
              "      gap: 12px;\n",
              "    }\n",
              "\n",
              "    .colab-df-convert {\n",
              "      background-color: #E8F0FE;\n",
              "      border: none;\n",
              "      border-radius: 50%;\n",
              "      cursor: pointer;\n",
              "      display: none;\n",
              "      fill: #1967D2;\n",
              "      height: 32px;\n",
              "      padding: 0 0 0 0;\n",
              "      width: 32px;\n",
              "    }\n",
              "\n",
              "    .colab-df-convert:hover {\n",
              "      background-color: #E2EBFA;\n",
              "      box-shadow: 0px 1px 2px rgba(60, 64, 67, 0.3), 0px 1px 3px 1px rgba(60, 64, 67, 0.15);\n",
              "      fill: #174EA6;\n",
              "    }\n",
              "\n",
              "    [theme=dark] .colab-df-convert {\n",
              "      background-color: #3B4455;\n",
              "      fill: #D2E3FC;\n",
              "    }\n",
              "\n",
              "    [theme=dark] .colab-df-convert:hover {\n",
              "      background-color: #434B5C;\n",
              "      box-shadow: 0px 1px 3px 1px rgba(0, 0, 0, 0.15);\n",
              "      filter: drop-shadow(0px 1px 2px rgba(0, 0, 0, 0.3));\n",
              "      fill: #FFFFFF;\n",
              "    }\n",
              "  </style>\n",
              "\n",
              "      <script>\n",
              "        const buttonEl =\n",
              "          document.querySelector('#df-d6cb5e3c-e27b-4483-af2a-2a7f3ffc27b7 button.colab-df-convert');\n",
              "        buttonEl.style.display =\n",
              "          google.colab.kernel.accessAllowed ? 'block' : 'none';\n",
              "\n",
              "        async function convertToInteractive(key) {\n",
              "          const element = document.querySelector('#df-d6cb5e3c-e27b-4483-af2a-2a7f3ffc27b7');\n",
              "          const dataTable =\n",
              "            await google.colab.kernel.invokeFunction('convertToInteractive',\n",
              "                                                     [key], {});\n",
              "          if (!dataTable) return;\n",
              "\n",
              "          const docLinkHtml = 'Like what you see? Visit the ' +\n",
              "            '<a target=\"_blank\" href=https://colab.research.google.com/notebooks/data_table.ipynb>data table notebook</a>'\n",
              "            + ' to learn more about interactive tables.';\n",
              "          element.innerHTML = '';\n",
              "          dataTable['output_type'] = 'display_data';\n",
              "          await google.colab.output.renderOutput(dataTable, element);\n",
              "          const docLink = document.createElement('div');\n",
              "          docLink.innerHTML = docLinkHtml;\n",
              "          element.appendChild(docLink);\n",
              "        }\n",
              "      </script>\n",
              "    </div>\n",
              "  </div>\n",
              "  "
            ]
          },
          "metadata": {},
          "execution_count": 19
        }
      ]
    },
    {
      "cell_type": "code",
      "source": [
        "# Вывод результатов А1\n",
        "df_a1_g"
      ],
      "metadata": {
        "colab": {
          "base_uri": "https://localhost:8080/",
          "height": 238
        },
        "id": "qS6T4P_CSBri",
        "outputId": "28bdab6c-1252-430b-9522-bc740a8a8278"
      },
      "execution_count": 20,
      "outputs": [
        {
          "output_type": "execute_result",
          "data": {
            "text/plain": [
              "     Prediction     Error\n",
              "QF1                      \n",
              "60    61.800000  1.800000\n",
              "70    68.083333  2.533333\n",
              "77    75.333333  2.016667\n",
              "89    91.066667  3.450000\n",
              "98    95.591667  2.408333"
            ],
            "text/html": [
              "\n",
              "  <div id=\"df-63ee2f9c-cd12-44ec-8649-5b64e31ca9c3\">\n",
              "    <div class=\"colab-df-container\">\n",
              "      <div>\n",
              "<style scoped>\n",
              "    .dataframe tbody tr th:only-of-type {\n",
              "        vertical-align: middle;\n",
              "    }\n",
              "\n",
              "    .dataframe tbody tr th {\n",
              "        vertical-align: top;\n",
              "    }\n",
              "\n",
              "    .dataframe thead th {\n",
              "        text-align: right;\n",
              "    }\n",
              "</style>\n",
              "<table border=\"1\" class=\"dataframe\">\n",
              "  <thead>\n",
              "    <tr style=\"text-align: right;\">\n",
              "      <th></th>\n",
              "      <th>Prediction</th>\n",
              "      <th>Error</th>\n",
              "    </tr>\n",
              "    <tr>\n",
              "      <th>QF1</th>\n",
              "      <th></th>\n",
              "      <th></th>\n",
              "    </tr>\n",
              "  </thead>\n",
              "  <tbody>\n",
              "    <tr>\n",
              "      <th>60</th>\n",
              "      <td>61.800000</td>\n",
              "      <td>1.800000</td>\n",
              "    </tr>\n",
              "    <tr>\n",
              "      <th>70</th>\n",
              "      <td>68.083333</td>\n",
              "      <td>2.533333</td>\n",
              "    </tr>\n",
              "    <tr>\n",
              "      <th>77</th>\n",
              "      <td>75.333333</td>\n",
              "      <td>2.016667</td>\n",
              "    </tr>\n",
              "    <tr>\n",
              "      <th>89</th>\n",
              "      <td>91.066667</td>\n",
              "      <td>3.450000</td>\n",
              "    </tr>\n",
              "    <tr>\n",
              "      <th>98</th>\n",
              "      <td>95.591667</td>\n",
              "      <td>2.408333</td>\n",
              "    </tr>\n",
              "  </tbody>\n",
              "</table>\n",
              "</div>\n",
              "      <button class=\"colab-df-convert\" onclick=\"convertToInteractive('df-63ee2f9c-cd12-44ec-8649-5b64e31ca9c3')\"\n",
              "              title=\"Convert this dataframe to an interactive table.\"\n",
              "              style=\"display:none;\">\n",
              "        \n",
              "  <svg xmlns=\"http://www.w3.org/2000/svg\" height=\"24px\"viewBox=\"0 0 24 24\"\n",
              "       width=\"24px\">\n",
              "    <path d=\"M0 0h24v24H0V0z\" fill=\"none\"/>\n",
              "    <path d=\"M18.56 5.44l.94 2.06.94-2.06 2.06-.94-2.06-.94-.94-2.06-.94 2.06-2.06.94zm-11 1L8.5 8.5l.94-2.06 2.06-.94-2.06-.94L8.5 2.5l-.94 2.06-2.06.94zm10 10l.94 2.06.94-2.06 2.06-.94-2.06-.94-.94-2.06-.94 2.06-2.06.94z\"/><path d=\"M17.41 7.96l-1.37-1.37c-.4-.4-.92-.59-1.43-.59-.52 0-1.04.2-1.43.59L10.3 9.45l-7.72 7.72c-.78.78-.78 2.05 0 2.83L4 21.41c.39.39.9.59 1.41.59.51 0 1.02-.2 1.41-.59l7.78-7.78 2.81-2.81c.8-.78.8-2.07 0-2.86zM5.41 20L4 18.59l7.72-7.72 1.47 1.35L5.41 20z\"/>\n",
              "  </svg>\n",
              "      </button>\n",
              "      \n",
              "  <style>\n",
              "    .colab-df-container {\n",
              "      display:flex;\n",
              "      flex-wrap:wrap;\n",
              "      gap: 12px;\n",
              "    }\n",
              "\n",
              "    .colab-df-convert {\n",
              "      background-color: #E8F0FE;\n",
              "      border: none;\n",
              "      border-radius: 50%;\n",
              "      cursor: pointer;\n",
              "      display: none;\n",
              "      fill: #1967D2;\n",
              "      height: 32px;\n",
              "      padding: 0 0 0 0;\n",
              "      width: 32px;\n",
              "    }\n",
              "\n",
              "    .colab-df-convert:hover {\n",
              "      background-color: #E2EBFA;\n",
              "      box-shadow: 0px 1px 2px rgba(60, 64, 67, 0.3), 0px 1px 3px 1px rgba(60, 64, 67, 0.15);\n",
              "      fill: #174EA6;\n",
              "    }\n",
              "\n",
              "    [theme=dark] .colab-df-convert {\n",
              "      background-color: #3B4455;\n",
              "      fill: #D2E3FC;\n",
              "    }\n",
              "\n",
              "    [theme=dark] .colab-df-convert:hover {\n",
              "      background-color: #434B5C;\n",
              "      box-shadow: 0px 1px 3px 1px rgba(0, 0, 0, 0.15);\n",
              "      filter: drop-shadow(0px 1px 2px rgba(0, 0, 0, 0.3));\n",
              "      fill: #FFFFFF;\n",
              "    }\n",
              "  </style>\n",
              "\n",
              "      <script>\n",
              "        const buttonEl =\n",
              "          document.querySelector('#df-63ee2f9c-cd12-44ec-8649-5b64e31ca9c3 button.colab-df-convert');\n",
              "        buttonEl.style.display =\n",
              "          google.colab.kernel.accessAllowed ? 'block' : 'none';\n",
              "\n",
              "        async function convertToInteractive(key) {\n",
              "          const element = document.querySelector('#df-63ee2f9c-cd12-44ec-8649-5b64e31ca9c3');\n",
              "          const dataTable =\n",
              "            await google.colab.kernel.invokeFunction('convertToInteractive',\n",
              "                                                     [key], {});\n",
              "          if (!dataTable) return;\n",
              "\n",
              "          const docLinkHtml = 'Like what you see? Visit the ' +\n",
              "            '<a target=\"_blank\" href=https://colab.research.google.com/notebooks/data_table.ipynb>data table notebook</a>'\n",
              "            + ' to learn more about interactive tables.';\n",
              "          element.innerHTML = '';\n",
              "          dataTable['output_type'] = 'display_data';\n",
              "          await google.colab.output.renderOutput(dataTable, element);\n",
              "          const docLink = document.createElement('div');\n",
              "          docLink.innerHTML = docLinkHtml;\n",
              "          element.appendChild(docLink);\n",
              "        }\n",
              "      </script>\n",
              "    </div>\n",
              "  </div>\n",
              "  "
            ]
          },
          "metadata": {},
          "execution_count": 20
        }
      ]
    }
  ]
}